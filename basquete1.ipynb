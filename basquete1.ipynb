{
  "nbformat": 4,
  "nbformat_minor": 0,
  "metadata": {
    "colab": {
      "name": "basquete1.ipynb",
      "provenance": [],
      "include_colab_link": true
    },
    "kernelspec": {
      "name": "python3",
      "display_name": "Python 3"
    },
    "accelerator": "GPU"
  },
  "cells": [
    {
      "cell_type": "markdown",
      "metadata": {
        "id": "view-in-github",
        "colab_type": "text"
      },
      "source": [
        "<a href=\"https://colab.research.google.com/github/pgcavalcanti/AlphaPose-basketball/blob/master/basquete1.ipynb\" target=\"_parent\"><img src=\"https://colab.research.google.com/assets/colab-badge.svg\" alt=\"Open In Colab\"/></a>"
      ]
    },
    {
      "cell_type": "code",
      "metadata": {
        "id": "X9KqBodX65-q",
        "colab_type": "code",
        "colab": {}
      },
      "source": [
        "%%shell\n",
        "cd '/content/drive/My Drive/basquete'\n",
        "ffmpeg -i pato_rioclaro.mp4 -r 10 frames/%5d.png"
      ],
      "execution_count": 0,
      "outputs": []
    },
    {
      "cell_type": "code",
      "metadata": {
        "id": "h747dh_PAo72",
        "colab_type": "code",
        "colab": {}
      },
      "source": [
        "!ls '/content/drive/My Drive/basquete/frames'"
      ],
      "execution_count": 0,
      "outputs": []
    },
    {
      "cell_type": "markdown",
      "metadata": {
        "id": "moL17aVn7_h0",
        "colab_type": "text"
      },
      "source": [
        "alphapose"
      ]
    },
    {
      "cell_type": "code",
      "metadata": {
        "id": "e0GKVzpX8CHg",
        "colab_type": "code",
        "colab": {}
      },
      "source": [
        "%%shell\n",
        "# 1. Install PyTorch\n",
        "pip3 install torch==1.1.0 torchvision==0.3.0\n",
        "\n",
        "# 2. Get AlphaPose\n",
        "git clone https://github.com/pgcavalcanti/AlphaPose-basketball.git\n",
        "cd AlphaPose-basketball/\n",
        "\n",
        "# 3. install\n",
        "export PATH=/usr/local/cuda/bin/:$PATH\n",
        "export LD_LIBRARY_PATH=/usr/local/cuda/lib64/:$LD_LIBRARY_PATH\n",
        "pip install cython\n",
        "sudo apt-get install libyaml-dev\n",
        "python setup.py build develop --user\n",
        "pip install -U PyYAML\n",
        "pip install \"pillow<7\"\n",
        "\n",
        "\n",
        "# 4. download Models\n",
        "pip install gdown\n",
        "\n",
        "# 4.1 yolo\n",
        "mkdir detector/yolo/data\n",
        "cd detector/yolo/data\n",
        "gdown https://drive.google.com/uc?id=1D47msNOOiJKvPOXlnpyzdKA3k6E97NTC\n",
        "\n",
        "# 4.2 object tracking \n",
        "ls\n",
        "mkdir ../../tracker/data\n",
        "cd ../../tracker/data\n",
        "gdown https://drive.google.com/uc?id=1nlnuYfGNuHWZztQHXwVZSL_FvfE551pA\n",
        "\n",
        "# 4.3 pretrained models\n",
        "cd  ../../../pretrained_models\n",
        "gdown https://drive.google.com/uc?id=1nxyfUbvWDaaT9eDM7Y31ScSVPlGy6gfw\n",
        "\n",
        "gdown https://drive.google.com/uc?id=1kQhnMRURFiy7NsdS8EFL-8vtqEXOgECn"
      ],
      "execution_count": 0,
      "outputs": []
    },
    {
      "cell_type": "code",
      "metadata": {
        "id": "y7YL_D1BFRj5",
        "colab_type": "code",
        "colab": {}
      },
      "source": [
        "%%shell\n",
        "cd '/content/AlphaPose-basketball'\n",
        "python scripts/demo_inference.py --sp --cfg ./configs/coco/resnet/256x192_res50_lr1e-3_1x.yaml --checkpoint ./pretrained_models/fast_res50_256x192.pth --indir '/content/drive/My Drive/basquete/frames' --outdir '/content/drive/My Drive/basquete/out' --detector yolo --save_img --debug"
      ],
      "execution_count": 0,
      "outputs": []
    }
  ]
}